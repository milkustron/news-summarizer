{
  "cells": [
    {
      "cell_type": "code",
      "execution_count": 2,
      "metadata": {
        "id": "iARr22tGf_rb"
      },
      "outputs": [
        {
          "name": "stderr",
          "output_type": "stream",
          "text": [
            "/Users/mika/anaconda3/lib/python3.11/site-packages/pandas/core/arrays/masked.py:60: UserWarning: Pandas requires version '1.3.6' or newer of 'bottleneck' (version '1.3.5' currently installed).\n",
            "  from pandas.core import (\n"
          ]
        }
      ],
      "source": [
        "from sklearn.model_selection import train_test_split\n",
        "import nltk\n",
        "from nltk.corpus import stopwords\n",
        "import json\n",
        "import pandas as pd\n",
        "import os\n",
        "from nltk.stem import WordNetLemmatizer\n",
        "import numpy as np"
      ]
    },
    {
      "cell_type": "code",
      "execution_count": 4,
      "metadata": {},
      "outputs": [],
      "source": [
        "schema = {\"url\", \"archive\", \"title\", \"date\", \"text\", \"summary\", \"compression\", \"coverage\", \"density\", \"compression_bin\", \"coverage_bin\", \"density_bin\"}"
      ]
    },
    {
      "cell_type": "code",
      "execution_count": 6,
      "metadata": {
        "id": "PvE9opqwNCh9"
      },
      "outputs": [],
      "source": [
        "#todo - nie działa\n",
        "records = []\n",
        "for file_name in os.listdir(\"data\"):\n",
        "  try:\n",
        "    path = os.path.join(\"data\", file_name)\n",
        "\n",
        "    with open(path, 'r') as file:\n",
        "        data = file.read()\n",
        "        for line in data.splitlines():\n",
        "            record = json.loads(line)\n",
        "            try:\n",
        "                if isinstance(record, dict) and schema.issubset(record.keys()):\n",
        "                  record['text'] = record['text'].encode('utf-8').decode('utf-8', errors='replace')\n",
        "                  record['summary'] = record['summary'].encode('utf-8').decode('utf-8', errors='replace')\n",
        "                  try:\n",
        "                    records.append(record)\n",
        "                    pd.DataFrame(records)\n",
        "                  except TypeError:\n",
        "                     continue\n",
        "            except json.JSONDecodeError:\n",
        "                continue\n",
        "  except:\n",
        "    continue\n",
        "\n",
        "data = pd.DataFrame(records)\n",
        "data"
      ]
    },
    {
      "cell_type": "code",
      "execution_count": null,
      "metadata": {
        "id": "D1LUR4qHUVuQ"
      },
      "outputs": [],
      "source": [
        "data = data[['text', 'summary']]\n",
        "data"
      ]
    },
    {
      "cell_type": "code",
      "execution_count": null,
      "metadata": {
        "id": "XsIozTi8WmQA"
      },
      "outputs": [],
      "source": [
        "data.describe()"
      ]
    },
    {
      "cell_type": "code",
      "execution_count": null,
      "metadata": {
        "id": "ktwUmNx7ecTa"
      },
      "outputs": [],
      "source": [
        "train_data, test_data = train_test_split(data, test_size=0.1, random_state=42)\n",
        "train_data, val_data = train_test_split(train_data, test_size=0.2, random_state=42)\n",
        "test_data.to_csv('test_data.csv')\n",
        "val_data.to_csv('val_data.csv')"
      ]
    },
    {
      "cell_type": "code",
      "execution_count": null,
      "metadata": {
        "id": "J63CaoElXN_T"
      },
      "outputs": [],
      "source": [
        "train_data.drop_duplicates()"
      ]
    },
    {
      "cell_type": "code",
      "execution_count": null,
      "metadata": {
        "id": "Bu-wt34mXjME"
      },
      "outputs": [],
      "source": [
        "text_len = train_data['text'].apply(len)\n",
        "summary_len = train_data['summary'].apply(len)\n",
        "\n",
        "print(f\"Text:\\n min: {text_len.min()}\\n max: {text_len.max()}\\n mean: {text_len.mean()}\")\n",
        "print(f\"Summary:\\n min: {summary_len.min()}\\n max: {summary_len.max()}\\n mean: {summary_len.mean()}\")\n"
      ]
    },
    {
      "cell_type": "code",
      "execution_count": null,
      "metadata": {
        "id": "n2MHPuApYXCO"
      },
      "outputs": [],
      "source": [
        "train_data = train_data[train_data['summary'].apply(len) <= 200]\n",
        "train_data"
      ]
    },
    {
      "cell_type": "code",
      "execution_count": null,
      "metadata": {
        "id": "-1lAQ6LwgpsP"
      },
      "outputs": [],
      "source": [
        "nltk.download('punkt')\n",
        "nltk.download('punkt_tab')"
      ]
    },
    {
      "cell_type": "code",
      "execution_count": null,
      "metadata": {
        "id": "HtDxFa4edyrk"
      },
      "outputs": [],
      "source": [
        "train_data_tokens = pd.DataFrame()\n",
        "train_data_tokens['text'] = train_data['text'].apply(word_tokenize)\n",
        "train_data_tokens['summary'] = train_data['summary'].apply(word_tokenize)\n",
        "train_data_tokens"
      ]
    },
    {
      "cell_type": "code",
      "execution_count": null,
      "metadata": {
        "id": "l_IltpPTk78O"
      },
      "outputs": [],
      "source": [
        "nltk.download('stopwords')"
      ]
    },
    {
      "cell_type": "code",
      "execution_count": null,
      "metadata": {
        "id": "HLr9Y1TShrlP"
      },
      "outputs": [],
      "source": [
        "stop_words = set(stopwords.words('english'))"
      ]
    },
    {
      "cell_type": "code",
      "execution_count": null,
      "metadata": {
        "id": "oKXbhK9ohhOM"
      },
      "outputs": [],
      "source": [
        "train_data_stopwords = pd.DataFrame()\n",
        "\n",
        "train_data_stopwords['text'] = train_data_tokens['text'].apply(lambda tokens: [word for word in tokens if word.lower() not in stop_words])\n",
        "train_data_stopwords['summary'] = train_data_tokens['summary'].apply(lambda tokens: [word for word in tokens if word.lower() not in stop_words])\n",
        "\n",
        "train_data_stopwords"
      ]
    },
    {
      "cell_type": "code",
      "execution_count": null,
      "metadata": {
        "id": "PJZO8U_DokBv"
      },
      "outputs": [],
      "source": [
        "lemmatizer = WordNetLemmatizer()"
      ]
    },
    {
      "cell_type": "code",
      "execution_count": null,
      "metadata": {
        "id": "qV9_ZSKSoPuu"
      },
      "outputs": [],
      "source": [
        "train_data_lemmatize = pd.DataFrame()\n",
        "nltk.download('wordnet')\n",
        "\n",
        "train_data_lemmatize['text'] = train_data_stopwords['text'].apply(lambda tokens: [lemmatizer.lemmatize(token) for token in tokens])\n",
        "train_data_lemmatize['summary'] = train_data_stopwords['summary'].apply(lambda tokens: [lemmatizer.lemmatize(token) for token in tokens])\n",
        "\n",
        "train_data_lemmatize\n"
      ]
    },
    {
      "cell_type": "code",
      "execution_count": null,
      "metadata": {
        "id": "l-I_maGJduhZ"
      },
      "outputs": [],
      "source": [
        "train_data_lemmatize.to_csv('train_data.csv')"
      ]
    }
  ],
  "metadata": {
    "accelerator": "GPU",
    "colab": {
      "gpuType": "T4",
      "provenance": []
    },
    "kernelspec": {
      "display_name": "Python 3",
      "name": "python3"
    },
    "language_info": {
      "codemirror_mode": {
        "name": "ipython",
        "version": 3
      },
      "file_extension": ".py",
      "mimetype": "text/x-python",
      "name": "python",
      "nbconvert_exporter": "python",
      "pygments_lexer": "ipython3",
      "version": "3.11.5"
    }
  },
  "nbformat": 4,
  "nbformat_minor": 0
}
