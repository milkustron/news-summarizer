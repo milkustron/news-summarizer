{
 "cells": [
  {
   "cell_type": "code",
   "execution_count": null,
   "metadata": {},
   "outputs": [
    {
     "name": "stderr",
     "output_type": "stream",
     "text": [
      "C:\\Users\\48798\\AppData\\Local\\Packages\\PythonSoftwareFoundation.Python.3.11_qbz5n2kfra8p0\\LocalCache\\local-packages\\Python311\\site-packages\\tqdm\\auto.py:21: TqdmWarning: IProgress not found. Please update jupyter and ipywidgets. See https://ipywidgets.readthedocs.io/en/stable/user_install.html\n",
      "  from .autonotebook import tqdm as notebook_tqdm\n",
      "[nltk_data] Downloading package stopwords to\n",
      "[nltk_data]     C:\\Users\\48798\\AppData\\Roaming\\nltk_data...\n",
      "[nltk_data]   Package stopwords is already up-to-date!\n",
      "[nltk_data] Downloading package punkt to\n",
      "[nltk_data]     C:\\Users\\48798\\AppData\\Roaming\\nltk_data...\n",
      "[nltk_data]   Package punkt is already up-to-date!\n",
      "[nltk_data] Downloading package wordnet to\n",
      "[nltk_data]     C:\\Users\\48798\\AppData\\Roaming\\nltk_data...\n",
      "[nltk_data]   Package wordnet is already up-to-date!\n"
     ]
    }
   ],
   "source": [
    "import pandas as pd\n",
    "from transformers import BartForConditionalGeneration, BartTokenizer, Trainer, TrainingArguments\n",
    "from datasets import Dataset\n",
    "from functions_utils import summarize_text_bart"
   ]
  },
  {
   "cell_type": "code",
   "execution_count": 2,
   "metadata": {},
   "outputs": [],
   "source": [
    "import pandas as pd\n",
    "df = pd.read_csv('data.csv')\n",
    "df = df[['text', 'summary']]"
   ]
  },
  {
   "cell_type": "code",
   "execution_count": 3,
   "metadata": {},
   "outputs": [],
   "source": [
    "df = df[df['summary'].apply(len) <= 200]"
   ]
  },
  {
   "cell_type": "code",
   "execution_count": 4,
   "metadata": {},
   "outputs": [],
   "source": [
    "import nltk\n"
   ]
  },
  {
   "cell_type": "code",
   "execution_count": 5,
   "metadata": {},
   "outputs": [],
   "source": [
    "from nltk.corpus import stopwords\n",
    "from nltk.stem import WordNetLemmatizer\n",
    "from nltk.tokenize import sent_tokenize, word_tokenize\n",
    "from sklearn.metrics.pairwise import cosine_similarity\n",
    "from transformers import BartForConditionalGeneration, BartTokenizer, Trainer, TrainingArguments\n"
   ]
  },
  {
   "cell_type": "code",
   "execution_count": 6,
   "metadata": {},
   "outputs": [],
   "source": [
    "model_name = \"facebook/bart-large-cnn\"\n",
    "tokenizer = BartTokenizer.from_pretrained(model_name)\n",
    "\n",
    "# Tokenize dataset\n",
    "def tokenize_function(examples):\n",
    "    model_inputs = tokenizer(\n",
    "        examples[\"text\"],\n",
    "        max_length=1024,\n",
    "        truncation=True,\n",
    "        padding=\"max_length\"\n",
    "    )\n",
    "    with tokenizer.as_target_tokenizer():\n",
    "        labels = tokenizer(\n",
    "            examples[\"summary\"],\n",
    "            max_length=128,\n",
    "            truncation=True,\n",
    "            padding=\"max_length\"\n",
    "        )\n",
    "    model_inputs[\"labels\"] = labels[\"input_ids\"]\n",
    "    return model_inputs"
   ]
  },
  {
   "cell_type": "code",
   "execution_count": 7,
   "metadata": {},
   "outputs": [
    {
     "name": "stderr",
     "output_type": "stream",
     "text": [
      "C:\\Users\\48798\\AppData\\Local\\Packages\\PythonSoftwareFoundation.Python.3.11_qbz5n2kfra8p0\\LocalCache\\local-packages\\Python311\\site-packages\\transformers\\models\\bart\\configuration_bart.py:176: UserWarning: Please make sure the config includes `forced_bos_token_id=0` in future versions. The config can simply be saved and uploaded again to be fixed.\n",
      "  warnings.warn(\n"
     ]
    }
   ],
   "source": [
    "import torch\n",
    "device = torch.device(\"cuda\" if torch.cuda.is_available() else \"cpu\")\n",
    "def summarize_text(text, trained_model):\n",
    "    \"\"\"Generate a summary for the given text.\"\"\"\n",
    "    inputs = tokenizer(text, max_length=512, return_tensors=\"pt\", truncation=True).to(device)\n",
    "    summary_ids = trained_model.generate(inputs[\"input_ids\"], max_length=128, min_length=30, length_penalty=2.0, num_beams=4, early_stopping=True)\n",
    "    return tokenizer.decode(summary_ids[0], skip_special_tokens=True)\n",
    "\n",
    "\n",
    "tokenizer = BartTokenizer.from_pretrained(\"./fine_tuned_bart\")\n",
    "model = BartForConditionalGeneration.from_pretrained(\"./fine_tuned_bart\").to(device)"
   ]
  },
  {
   "cell_type": "code",
   "execution_count": 8,
   "metadata": {},
   "outputs": [
    {
     "name": "stderr",
     "output_type": "stream",
     "text": [
      "C:\\Users\\48798\\AppData\\Local\\Packages\\PythonSoftwareFoundation.Python.3.11_qbz5n2kfra8p0\\LocalCache\\local-packages\\Python311\\site-packages\\transformers\\generation\\utils.py:1527: UserWarning: You have modified the pretrained model configuration to control generation. This is a deprecated strategy to control generation and will be removed in v5. Please use and modify the model generation configuration (see https://huggingface.co/docs/transformers/generation_strategies#default-text-generation-configuration )\n",
      "  warnings.warn(\n"
     ]
    },
    {
     "name": "stdout",
     "output_type": "stream",
     "text": [
      "South Korea has accused North Korea of planting landmines that maimed two soldiers on border patrol, sending military tensions on the Korean peninsula soaring as it threatened to make Pyongyang pay a \"harsh price\".\n",
      "\n",
      "The Defence Ministry said it believed three landmines exploded in the incident last Tuesday, hitting a patrol in the demilitarised zone (DMZ) - a buffer zone stretching two kilometres on either side of the actual frontier line dividing the two Koreas.\n",
      "\n",
      "\"We are certain they were North Korean landmines planted with an intention to kill by our enemies who sneaked across the military border,\" ministry spokesman Kim Min-Seok told reporters.\n",
      "\n",
      "One soldier underwent a double leg amputation, while the other had one leg removed.\n",
      "\n",
      "In a statement, the South's Joint Chiefs of Staff said its military would make North Korea \"pay a harsh price proportionate for the provocation it made\".\n",
      "\n",
      "Describing the attack as a \"baseless act\" and \"wanton violation\" of non-aggression accords, the statement urged the North to apologise for the attack and punish those responsible.\n",
      "\n",
      "The last direct attack on the South was in December 2010 when North Korea shelled the South Korean border island of Yeonpyeong, killing two civilians and two soldiers and triggering brief fears of a full-scale conflict.\n",
      "\n",
      "The rival Koreas remain technically at war because their 1950-53 Korean conflict ended in a cease-fire rather than a peace treaty.\n",
      "\n",
      "The UN Command that monitors the cease-fire accord said on Monday that it had conducted a special investigation into last week's blasts and concluded they were from North Korean \"wooden box\" land mines placed on a known South Korean border patrol path.\n",
      "\n",
      "\"The investigation determined that the devices were recently emplaced, and ruled out the possibility that these were legacy landmines which had drifted from their original placements,\" it said in a statement.\n",
      "\n",
      "More than a million mines are believed to have been planted along the inter-Korean border, including those which were air-dropped in great numbers in the 1960s at the height of a Cold War confrontation with the North.\n",
      "\n",
      "The incident comes at a sensitive time, with both Koreas preparing to commemorate the 70th anniversary on Saturday of the 1945 liberation of the Korean peninsula from Japanese rule.\n",
      "\n",
      "There had been hopes that the anniversary might open an opportunity for some sort of rapprochement, but efforts to organise a joint commemoration went nowhere with Pyongyang refusing to consider talks because of Seoul's refusal to cancel annual joint military exercises with the United States.\n",
      "\n",
      "Do you have any news photos or videos?\n",
      "Generated Summary: South Korea has accused North Korea of planting landmines that maimed two soldiers on border patrol, sending military tensions on the Korean peninsula soaring as it threatened to make Pyongyang pay a \"harsh price\".\n"
     ]
    }
   ],
   "source": [
    "sample = df.iloc[26, 0]\n",
    "generated_summary = summarize_text(sample, model)\n",
    "print(sample)\n",
    "print(\"Generated Summary:\", generated_summary)"
   ]
  },
  {
   "cell_type": "code",
   "execution_count": 9,
   "metadata": {},
   "outputs": [],
   "source": [
    "df.to_csv('data_eva.csv', index = False)"
   ]
  },
  {
   "cell_type": "code",
   "execution_count": 10,
   "metadata": {},
   "outputs": [
    {
     "name": "stdout",
     "output_type": "stream",
     "text": [
      "Czas predykcji (10 przykładów): 136.095759 sekund\n"
     ]
    }
   ],
   "source": [
    "from datetime import datetime\n",
    "\n",
    "\n",
    "df.reset_index(drop = True, inplace = True)\n",
    "df['gen_sum_bart'] = ''\n",
    "\n",
    "start_time = datetime.now()\n",
    "for i in range(0, 10):\n",
    "    sample = df.iloc[i, 0]\n",
    "    generated_summary = summarize_text(sample, model)\n",
    "\n",
    "df.to_csv('dane_bert_comp.csv')\n",
    "\n",
    "end_time = datetime.now()\n",
    "execution_time = (end_time - start_time).total_seconds()\n",
    "print(f\"Czas predykcji (10 przykładów): {execution_time:.6f} sekund\")"
   ]
  },
  {
   "cell_type": "code",
   "execution_count": 11,
   "metadata": {},
   "outputs": [
    {
     "data": {
      "text/plain": [
       "''"
      ]
     },
     "execution_count": 11,
     "metadata": {},
     "output_type": "execute_result"
    }
   ],
   "source": [
    "summarize_text(str(df.sample(1).iloc[0]),model)"
   ]
  }
 ],
 "metadata": {
  "kernelspec": {
   "display_name": "Python 3",
   "language": "python",
   "name": "python3"
  },
  "language_info": {
   "codemirror_mode": {
    "name": "ipython",
    "version": 3
   },
   "file_extension": ".py",
   "mimetype": "text/x-python",
   "name": "python",
   "nbconvert_exporter": "python",
   "pygments_lexer": "ipython3",
   "version": "3.11.9"
  }
 },
 "nbformat": 4,
 "nbformat_minor": 2
}
